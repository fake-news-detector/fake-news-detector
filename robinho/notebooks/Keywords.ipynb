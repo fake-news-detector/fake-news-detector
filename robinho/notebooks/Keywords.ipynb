{
 "cells": [
  {
   "cell_type": "code",
   "execution_count": 41,
   "metadata": {
    "scrolled": false
   },
   "outputs": [],
   "source": [
    "import pandas as pd\n",
    "\n",
    "\n",
    "df = pd.read_csv(\"../train_data/links.csv\")\n",
    "df.dropna(subset=[\"title\", \"content\"], inplace=True, how=\"all\")\n",
    "df = df.fillna('')\n",
    "df[\"title_content\"] = df[\"title\"] + df[\"content\"]"
   ]
  },
  {
   "cell_type": "code",
   "execution_count": 42,
   "metadata": {},
   "outputs": [
    {
     "name": "stdout",
     "output_type": "stream",
     "text": [
      "CPU times: user 2.14 s, sys: 120 ms, total: 2.26 s\n",
      "Wall time: 2.44 s\n"
     ]
    }
   ],
   "source": [
    "%%time\n",
    "\n",
    "import langdetect\n",
    "from multiprocessing import Pool, cpu_count\n",
    "from whatthelang import WhatTheLang\n",
    "\n",
    "wtl = WhatTheLang()\n",
    "\n",
    "def detect_lang(text):\n",
    "    try:\n",
    "#         return langdetect.detect(text[0:50])\n",
    "        return wtl.predict_lang(text)\n",
    "    except:\n",
    "        return None\n",
    "\n",
    "# with Pool(cpu_count()) as p:\n",
    "#     df[\"lang\"] = p.map(detect_lang, df[\"title_content\"])\n",
    "df[\"lang\"] = [ detect_lang(c) for c in df[\"title_content\"]]"
   ]
  },
  {
   "cell_type": "code",
   "execution_count": 45,
   "metadata": {},
   "outputs": [
    {
     "name": "stdout",
     "output_type": "stream",
     "text": [
      "             title\n",
      "             count\n",
      "lang              \n",
      "CANT_PREDICT    19\n",
      "ar               5\n",
      "bg               3\n",
      "ca               9\n",
      "ceb              1\n",
      "cs              33\n",
      "da               4\n",
      "de              37\n",
      "el              12\n",
      "en            3255\n",
      "eo               2\n",
      "es             360\n",
      "fa               2\n",
      "fi               2\n",
      "fr              58\n",
      "ga               1\n",
      "gl              36\n",
      "hi               1\n",
      "hr               3\n",
      "hu              14\n",
      "hy               1\n",
      "id               1\n",
      "it              65\n",
      "ja               3\n",
      "jbo              1\n",
      "ka               3\n",
      "ko               1\n",
      "la               8\n",
      "lb               2\n",
      "lt               1\n",
      "mk               1\n",
      "mr               1\n",
      "nds              1\n",
      "nl               7\n",
      "nn               1\n",
      "no               2\n",
      "oc               1\n",
      "pl              23\n",
      "pt            1691\n",
      "ro              72\n",
      "ru               7\n",
      "sk               3\n",
      "sl               1\n",
      "sq               3\n",
      "sv              22\n",
      "te               1\n",
      "tl               7\n",
      "tr               1\n",
      "uk               2\n",
      "ur               1\n",
      "vi               2\n"
     ]
    }
   ],
   "source": [
    "print(df[[\"title\", \"lang\"]].groupby(['lang']).agg(['count']))"
   ]
  },
  {
   "cell_type": "code",
   "execution_count": 111,
   "metadata": {},
   "outputs": [
    {
     "name": "stdout",
     "output_type": "stream",
     "text": [
      "1366\n"
     ]
    },
    {
     "data": {
      "text/plain": [
       "'Thank YouThank you for installing our TV for Google Chrome™, you can start using the extension free of charge by clicking on it.\\n\\nHelp to keep us free, try this great FREE offer:'"
      ]
     },
     "execution_count": 111,
     "metadata": {},
     "output_type": "execute_result"
    }
   ],
   "source": [
    "df_ = df[df[\"lang\"] == 'en'][0:500].append(df[df[\"lang\"] == 'es'][0:500]).append(df[df[\"lang\"] == 'pt'][0:500])\n",
    "texts = df_[\"title_content\"].values.tolist()\n",
    "print(len(texts))\n",
    "texts[1]"
   ]
  },
  {
   "cell_type": "code",
   "execution_count": 112,
   "metadata": {},
   "outputs": [],
   "source": [
    "import numpy as np\n",
    "from nltk.corpus import stopwords\n",
    "import pandas as pd\n",
    "import unidecode\n",
    "\n",
    "all_stopwords = list(map(unidecode.unidecode,\n",
    "            stopwords.words('english') + \\\n",
    "            stopwords.words('portuguese') + \\\n",
    "            stopwords.words('spanish')))\n",
    "\n",
    "text = \"\"\"\n",
    "ALERTA GERAL Não beba Skol! A propaganda parou… Por quê? Reparem… A propaganda quase não se vê mais na mídia… Porque será??? Estamos repassando o e-mail abaixo para conhecimento e prevenção, principalmente para aqueles que bebem esta cerveja: Skol. Este e-mail está sendo repassado dentro do Hospital que trabalha uma pessoa amiga. Fato já está confirmado:Vinte e três pessoas já passaram pelo Hospital das Clínicas com um mesmo sintoma: falta de atividade renal e o aparecimento de tumores no reto. Todos os internados relataram o começo das dores e a conseqüente internação após ingerirem altas doses de Skol. Pesquisas realizadas pelo renomado Instituto Fleury, apontaram grande quantidade de Fenofinol, Almeido e Voliteral, substâncias tóxicas e que causam, respectivamente, a má atividade dos rins e câncer. Segundo Dr. Paulo José Teixeira, formado pela USP e Especialista em Toxicologia, as pessoas não devem ingerir mais a citada cerveja. A Direção da AMBEV já assumiu sua culpa e prometeu indenizar os pacientes e todos aqueles que venham a se contaminar com a cerveja. Pelo amor de “DEUS”… Passem esta mensagem para frente. Pelo sim e pelo não, vamos tentar remediar enquanto há tempo. Lembre-se: Divulgar a todos de sua família, é a consciência de cada um que deve decidir, mas a nossa deve estar tranqüila. Monique Freitas Soc.Bras.de Cardiologia/Secretaria. Por favor não deixem de repassar esta mensagem para todos que vocês conhecem. Repassando\n",
    "\"\"\""
   ]
  },
  {
   "cell_type": "code",
   "execution_count": 113,
   "metadata": {},
   "outputs": [
    {
     "data": {
      "text/plain": [
       "<1366x22574 sparse matrix of type '<class 'numpy.float64'>'\n",
       "\twith 191793 stored elements in Compressed Sparse Row format>"
      ]
     },
     "execution_count": 113,
     "metadata": {},
     "output_type": "execute_result"
    }
   ],
   "source": [
    "from sklearn.feature_extraction.text import TfidfVectorizer\n",
    "import numpy as np\n",
    "\n",
    "tfidf = TfidfVectorizer(\n",
    "            strip_accents='ascii',\n",
    "            ngram_range=(1, 3),\n",
    "            max_df=0.05,\n",
    "            min_df=3,\n",
    "            use_idf=True,\n",
    "            lowercase=True,\n",
    "            stop_words=all_stopwords)\n",
    "\n",
    "tfidf.fit_transform(texts)"
   ]
  },
  {
   "cell_type": "code",
   "execution_count": 114,
   "metadata": {},
   "outputs": [
    {
     "data": {
      "text/plain": [
       "'cerveja atividade mail mensagem propaganda hospital deve bebem'"
      ]
     },
     "execution_count": 114,
     "metadata": {},
     "output_type": "execute_result"
    }
   ],
   "source": [
    "AMOUNT_OF_KEYWORDS = 8\n",
    "\n",
    "def tfidf_keywords(text):\n",
    "    response = tfidf.transform([text])\n",
    "    feature_array = np.array(tfidf.get_feature_names())\n",
    "\n",
    "    response_arr = response.toarray()\n",
    "    valid_words = [word for word in response_arr[0] if word > 0.0]\n",
    "\n",
    "    if len(valid_words) < AMOUNT_OF_KEYWORDS:\n",
    "        return []\n",
    "\n",
    "    tfidf_sorting = np.argsort(response_arr).flatten()[::-1]\n",
    "\n",
    "    return feature_array[tfidf_sorting][:AMOUNT_OF_KEYWORDS].tolist()\n",
    "\n",
    "\" \".join(tfidf_keywords(text))"
   ]
  },
  {
   "cell_type": "code",
   "execution_count": 115,
   "metadata": {},
   "outputs": [
    {
     "data": {
      "text/plain": [
       "'dano projeto usuario autorizacao texto moral ambientes usuarios'"
      ]
     },
     "execution_count": 115,
     "metadata": {},
     "output_type": "execute_result"
    }
   ],
   "source": [
    "text2 = \"\"\"\n",
    " Um projeto em tramitação no Senado Federal pretende obrigar que empresas responsáveis por sites e aplicativos de redes sociais garantam a autorização do usuário antes que ele seja incluído em um novo grupo ou evento. O texto altera o Marco Civil da Internet e prevê advertência e multa em caso de descumprimento. \n",
    "\n",
    "A norma seria aplicada, por exemplo, a contas e páginas no Facebook, WhatsApp e Telegram. \n",
    "\n",
    "O PLS (projeto de lei do Senado) 347/2016, de autoria da senadora Vanessa Grazziotin (PCdoB-AM), foi aprovado no último dia 7 pela CCJ (Comissão de Constituição, Justiça e Cidadania) e agora segue para votação final na CCT (Comissão de Ciência, Tecnologia, Inovação, Comunicação e Informática).\n",
    "\n",
    "No texto, a senadora diz que a mudança é necessária porque \"há redes sociais que possibilitam aos membros a inclusão de outros usuários em grupos, páginas, comunidades e similares, sem a autorização prévia do incluído - ambientes estes muitas vezes com conteúdo agressivo, pornográfico, ou simplesmente desinteressante ao usuário adicionado, que em momento algum foi questionado sobre o interesse em participar de tais espaços\".\n",
    "Veja também:\n",
    "\n",
    "    Acabou a festa: Instagram agora denuncia captura de tela no Stories\n",
    "    Carro mais velho liberado: SP confirma mudança nas regras para Uber e afins\n",
    "    Facebook admite que falhou em unir as pessoas e testa botão de \"não gostei\"\n",
    "\n",
    "Apesar da aparente boa intenção da proposta, especialistas ouvidos pelo UOL dizem que o projeto não é necessário, já que é possível sair voluntariamente desses ambientes indesejados, e ainda poderia criar novas dificuldades para empresas e internautas. \n",
    "\n",
    "\"Hoje já existem ferramentas que possibilitam ao usuário sair do grupo, denunciar spam, dizer que não quer receber mais convites de determinadas páginas ou pessoas\", afirma o advogado Rony Vainzof. \"Pode parecer interessante a ideia de ter que receber um convite prévio para participar de um grupo, mas isso seria aplicável na prática? O que teria que constar nesse consentimento?\", questiona.  \n",
    "\n",
    "No texto do projeto, uma das justificativas para a alteração é evitar que empresas utilizem dados dos usuários sem autorização. Isso porque, segundo o projeto, algumas redes sociais, de forma não autorizada, \"acessam a lista de contatos de seus membros para atrair novos usuários, convidando integrantes dessa lista, em nome dos respectivos membros, a ingressarem na rede\". \n",
    "\n",
    "Para Carlos Affonso Souza, diretor do ITS Rio (Instituto de Tecnologia e Sociedade do Rio de Janeiro), o projeto não ataca o problema e desvia o foco da discussão. \"A Casa deveria estar concentrada na aprovação da lei de proteção de dados pessoais [PLS 330/2013], que torna mais clara a proibição da venda de dados, tanto na internet quanto fora dela\", diz. \n",
    "\n",
    "É uma escolha de prioridades desafortunada que os nossos senadores passem um tempo discutindo o regime de convites quando poderiam estar discutindo lei de dados no Brasil\" Carlos Affonso Souza\n",
    "\n",
    "O PLS 330/2013 está na CAE (Comissão de Assuntos Econômicos) aguardando parecer do relator, o senador Sérgio de Castro (PDT-ES). \n",
    "\n",
    "Responsabilidade e dano moral  \n",
    "\n",
    "Na CCJ, o projeto da senadora Vanessa Grazziotin recebeu duas emendas do relator Romero Jucá (PMDB-RR). \n",
    "\n",
    "A primeira mudança retira do texto a responsabilidade do usuário que adicionou outro sem autorização. Para Jucá, \"a culpa pela ausência de mecanismos que asseguram a coleta do consentimento prévio é da aplicação, e não dos usuários\". \n",
    "\n",
    "A segunda emenda diz respeito à garantia de dano moral em caso de inclusão do usuário sem consentimento prévio. \"Hoje é discutível se existe dano moral em casos como esse e, se existir dano, talvez não seja indenizável. Isso porque os tribunais brasileiros já decidiram que 'mero aborrecimento não gera dano moral' e esse caso é o típico caso de mero aborrecimento. Então, o que o senador [Romero Jucá] fez com a mudança do texto foi tentar forçar que o Judiciário reconheça o dano\", diz Souza. \n",
    "\n",
    "\"Isso não quer dizer que um dano nesses ambientes não possa acontecer. Você pode ser inserido em um grupo e se sentir ofendido por algo, mas hoje é possível mover uma ação indenizatória contra a pessoa que te incluiu. Para isso, não é preciso obrigar as aplicações a desenvolverem um sistema que burocratiza todos os grupos só para resolver o caso de 0,0001%\", afirma o diretor do ITS Rio.\n",
    "\"\"\"\n",
    "\" \".join(tfidf_keywords(text2))"
   ]
  },
  {
   "cell_type": "code",
   "execution_count": 19,
   "metadata": {
    "scrolled": true
   },
   "outputs": [
    {
     "data": {
      "text/plain": [
       "[]"
      ]
     },
     "execution_count": 19,
     "metadata": {},
     "output_type": "execute_result"
    }
   ],
   "source": [
    "tfidf_keywords(\"foo bar baz texto\")"
   ]
  },
  {
   "cell_type": "code",
   "execution_count": null,
   "metadata": {
    "collapsed": true
   },
   "outputs": [],
   "source": []
  }
 ],
 "metadata": {
  "kernelspec": {
   "display_name": "Python 3",
   "language": "python",
   "name": "python3"
  },
  "language_info": {
   "codemirror_mode": {
    "name": "ipython",
    "version": 3
   },
   "file_extension": ".py",
   "mimetype": "text/x-python",
   "name": "python",
   "nbconvert_exporter": "python",
   "pygments_lexer": "ipython3",
   "version": "3.6.6"
  }
 },
 "nbformat": 4,
 "nbformat_minor": 2
}
